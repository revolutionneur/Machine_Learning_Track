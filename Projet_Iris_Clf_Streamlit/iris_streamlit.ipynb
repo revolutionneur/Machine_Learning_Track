{
 "cells": [
  {
   "cell_type": "code",
   "execution_count": 25,
   "id": "f885c9b1",
   "metadata": {},
   "outputs": [],
   "source": [
    "import streamlit as st\n",
    "import numpy as np\n",
    "import joblib"
   ]
  },
  {
   "cell_type": "code",
   "execution_count": 26,
   "id": "6a076fd9",
   "metadata": {},
   "outputs": [],
   "source": [
    "model=joblib.load('iris_svc.pkl')\n",
    "scaler=joblib.load('scaler.pkl')"
   ]
  },
  {
   "cell_type": "code",
   "execution_count": null,
   "id": "2a005981",
   "metadata": {},
   "outputs": [],
   "source": []
  },
  {
   "cell_type": "code",
   "execution_count": 27,
   "id": "1bb04c03",
   "metadata": {},
   "outputs": [
    {
     "name": "stderr",
     "output_type": "stream",
     "text": [
      "/home/hp/.local/lib/python3.10/site-packages/sklearn/base.py:439: UserWarning: X does not have valid feature names, but Normalizer was fitted with feature names\n",
      "  warnings.warn(\n"
     ]
    }
   ],
   "source": [
    "st.title('My first streamlit app')\n",
    "st.header('inter the flowers parameters')\n",
    "\n",
    "sepal_length = st.slider('Sepal Length', 0.0, 10.0, step=0.1)\n",
    "sepal_width = st.slider('Sepal Width', 0.0, 10.0, step=0.1)\n",
    "petal_length = st.slider('Petal Length', 0.0, 10.0, step=0.1)\n",
    "petal_width = st.slider('Petal Width', 0.0, 10.0, step=0.1)\n",
    "\n",
    "# Perform prediction using the loaded model\n",
    "#scaled_features=scaler.transform(np.array[sepal_length, sepal_width, petal_length, petal_width])\n",
    "\n",
    "prediction = model.predict(scaler.transform([[sepal_length, sepal_width, petal_length, petal_width]]))\n",
    "labels = ['Setosa', 'Versicolour', 'Virginica']\n",
    "prediction_str = labels[int(prediction)]\n",
    "\n",
    "# Display the prediction\n",
    "st.subheader('Prediction:')\n",
    "st.write(prediction_str)"
   ]
  },
  {
   "cell_type": "code",
   "execution_count": null,
   "id": "904b37ba",
   "metadata": {},
   "outputs": [],
   "source": []
  }
 ],
 "metadata": {
  "kernelspec": {
   "display_name": "Python 3 (ipykernel)",
   "language": "python",
   "name": "python3"
  },
  "language_info": {
   "codemirror_mode": {
    "name": "ipython",
    "version": 3
   },
   "file_extension": ".py",
   "mimetype": "text/x-python",
   "name": "python",
   "nbconvert_exporter": "python",
   "pygments_lexer": "ipython3",
   "version": "3.10.6"
  }
 },
 "nbformat": 4,
 "nbformat_minor": 5
}
